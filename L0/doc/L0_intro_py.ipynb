{
 "cells": [
  {
   "cell_type": "markdown",
   "metadata": {},
   "source": [
    "# Lab 0: Introduction to Python"
   ]
  },
  {
   "cell_type": "markdown",
   "metadata": {},
   "source": [
    "__Students:__ emisv463 , NOTE THAT IM DOING THIS LAB BY MY SELF SINCE MY LAB PARTNER ALREADY KNOW PYTHON."
   ]
  },
  {
   "cell_type": "markdown",
   "metadata": {},
   "source": [
    "This course uses the Python programming language for all labs and this lab is intendet to give a short introduction to Python. It is also intended to give an introduction to Jupyter Notebooks.\n",
    "\n",
    "### A word of caution\n",
    "\n",
    "There are currently two versions of Python in common use, Python 2 and Python 3, which are not 100% compatible. Python 2 is slowly being phased out but has a large enough install base to still be relevant. This course uses the more modern Python 3 but while searching for help online it is not uncommon to find help for Python 2. Especially older posts on sources such as Stack Exchange might refer to Python 2 as simply \"Python\". This should not cause any serious problems but keep it in mind whenever googling. With regards to this lab, the largest differences are how `print` works and the best practice recommendations for string formatting."
   ]
  },
  {
   "cell_type": "markdown",
   "metadata": {},
   "source": [
    "### References to R\n",
    "\n",
    "Most students taking the Text Mining course who are not already familiar with Python will probably have some experience of the R programming language. For this reason, there will be intermittent references to R throughout this lab. For those of you with a background in R (or MATLAB/Octave, or Julia) the most important thing to remember is that indexing starts at 0, not at 1."
   ]
  },
  {
   "cell_type": "markdown",
   "metadata": {},
   "source": [
    "### 1. Strings and string handling\n",
    "\n",
    "As this is a course on Text Mining, comfort with working with text data is essential. The primary datatype for storing raw text in Python is the string. Note that there is no character datatype, only strings of length 1. This can be compared to how there are no atomic numbers in R, only vectors of length 1. A reference to the string datatype can be found __[here](https://docs.python.org/3/library/stdtypes.html#text-sequence-type-str)__."
   ]
  },
  {
   "cell_type": "markdown",
   "metadata": {},
   "source": [
    "a) Define the variable `parrot` containing the sentence _It\n",
    "is dead, that is what is wrong with it_. "
   ]
  },
  {
   "cell_type": "code",
   "execution_count": 1,
   "metadata": {
    "collapsed": true
   },
   "outputs": [],
   "source": [
    "parrot = \"It is dead, that is what is wrong with it.\""
   ]
  },
  {
   "cell_type": "markdown",
   "metadata": {},
   "source": [
    "b) Count the number of characters (letters, blank space, commas, periods\n",
    "etc) in the sentence."
   ]
  },
  {
   "cell_type": "code",
   "execution_count": 2,
   "metadata": {},
   "outputs": [
    {
     "data": {
      "text/plain": [
       "42"
      ]
     },
     "execution_count": 2,
     "metadata": {},
     "output_type": "execute_result"
    }
   ],
   "source": [
    "len(parrot)"
   ]
  },
  {
   "cell_type": "markdown",
   "metadata": {},
   "source": [
    "c) Write code that counts the number of __letters__ in the sentence."
   ]
  },
  {
   "cell_type": "code",
   "execution_count": 3,
   "metadata": {},
   "outputs": [
    {
     "data": {
      "text/plain": [
       "31"
      ]
     },
     "execution_count": 3,
     "metadata": {},
     "output_type": "execute_result"
    }
   ],
   "source": [
    "s = parrot.replace(\",\", \"\").replace(\".\",\"\").replace(\" \",\"\")\n",
    "len(s) "
   ]
  },
  {
   "cell_type": "markdown",
   "metadata": {},
   "source": [
    "d) Separate the sentence into a list of words. Call the list `ParrotWords`."
   ]
  },
  {
   "cell_type": "code",
   "execution_count": 4,
   "metadata": {},
   "outputs": [
    {
     "name": "stdout",
     "output_type": "stream",
     "text": [
      "['It', 'is', 'dead,', 'that', 'is', 'what', 'is', 'wrong', 'with', 'it.']\n"
     ]
    }
   ],
   "source": [
    "ParrotWords = parrot.split()\n",
    "print(ParrotWords)"
   ]
  },
  {
   "cell_type": "markdown",
   "metadata": {},
   "source": [
    "e) Merge (concatenate) `ParrotWords` into a string again."
   ]
  },
  {
   "cell_type": "code",
   "execution_count": 5,
   "metadata": {},
   "outputs": [
    {
     "data": {
      "text/plain": [
       "'It is dead, that is what is wrong with it.'"
      ]
     },
     "execution_count": 5,
     "metadata": {},
     "output_type": "execute_result"
    }
   ],
   "source": [
    "\" \".join(ParrotWords)"
   ]
  },
  {
   "cell_type": "markdown",
   "metadata": {},
   "source": [
    "### 2. Iteration, sequences and string formatting\n",
    "\n",
    "Loops are not as painfully slow in Python as they are in R and thus, not as critical to avoid. However, for many use cases, _comprehensions_, like _list comprehensions_ or _dict comprehensions_ are faster. In this assignment we will see both traditional loop constructs and comprehensions. For an introduction to comprehensions, __[this](https://python-3-patterns-idioms-test.readthedocs.io/en/latest/Comprehensions.html)__ might be a good place to start.\n",
    "\n",
    "It should also be noted that what Python calls lists are unnamed sequences. As in R, a Python list can contain elements of many types, however, these can only be accessed by indexing or sequence, not by name as in R."
   ]
  },
  {
   "cell_type": "markdown",
   "metadata": {},
   "source": [
    "a) Write a `for`-loop that produces the following output on the screen:<br>\n",
    "> `The next number in the loop is 5`<br>\n",
    "> `The next number in the loop is 6`<br>\n",
    "> ...<br>\n",
    "> `The next number in the loop is 10`<br>\n",
    "\n",
    "[Hint: the `range` function has more than one argument.]"
   ]
  },
  {
   "cell_type": "code",
   "execution_count": 6,
   "metadata": {},
   "outputs": [
    {
     "name": "stdout",
     "output_type": "stream",
     "text": [
      "The next number in the loop is 5\n",
      "The next number in the loop is 6\n",
      "The next number in the loop is 7\n",
      "The next number in the loop is 8\n",
      "The next number in the loop is 9\n",
      "The next number in the loop is 10\n"
     ]
    }
   ],
   "source": [
    "my_str = \"The next number in the loop is {0}\"\n",
    "for i in range(5,11):\n",
    "    print(my_str.format(i))"
   ]
  },
  {
   "cell_type": "markdown",
   "metadata": {},
   "source": [
    "b) Write a `while`-loop that repeatedly generates a random number from a uniform distribution over the interval [0,1], and prints the sentence 'The random number is smaller than 0.9' on the screen until the generated random number is greater than 0.9.\n",
    "\n",
    "[Hint: Python has a `random` module with basic random number generators.]"
   ]
  },
  {
   "cell_type": "code",
   "execution_count": 7,
   "metadata": {
    "collapsed": true
   },
   "outputs": [],
   "source": [
    "import random as r"
   ]
  },
  {
   "cell_type": "code",
   "execution_count": 8,
   "metadata": {},
   "outputs": [
    {
     "name": "stdout",
     "output_type": "stream",
     "text": [
      "The random number is smaller than 0.9\n",
      "The random number is smaller than 0.9\n"
     ]
    }
   ],
   "source": [
    "my_unif = 0.5 # Init\n",
    "while my_unif < 0.9:\n",
    "    print(\"The random number is smaller than 0.9\")\n",
    "    my_unif = r.uniform(0,1)\n",
    "    "
   ]
  },
  {
   "cell_type": "markdown",
   "metadata": {},
   "source": [
    "c) Write a for-loop that iterates over the list `names` below and writes the following to the screen:\n",
    "\n",
    "> `The name Ludwig is nice`<br>\n",
    "> `The name Rosa is nice`<br>\n",
    "> ...<br>\n",
    "> `The name Amadeus is nice`<br>\n",
    "\n",
    "Use Python's string formatting capabilities (the `format` function in the string class) to solve the problem.\n",
    "\n",
    "[Warning: The best practices for how to do string formatting differs from Python 2 and 3, make sure you use the Python 3 approach.]"
   ]
  },
  {
   "cell_type": "code",
   "execution_count": 9,
   "metadata": {},
   "outputs": [
    {
     "name": "stdout",
     "output_type": "stream",
     "text": [
      "The name Ludwig is nice\n",
      "The name Rosa is nice\n",
      "The name Mona is nice\n",
      "The name Amadeus is nice\n"
     ]
    }
   ],
   "source": [
    "names = ['Ludwig', 'Rosa', 'Mona', 'Amadeus']\n",
    "\n",
    "for name in names:\n",
    "    loop_str= \"The name {} is nice\".format(name) #Save it for readability rather than speed\n",
    "    print(loop_str)"
   ]
  },
  {
   "cell_type": "markdown",
   "metadata": {},
   "source": [
    "d) Write a for-loop that iterates over the list `names` and produces the list `nLetters` (`[6,4,4,7]`) that counts the letters in each name. "
   ]
  },
  {
   "cell_type": "code",
   "execution_count": 10,
   "metadata": {},
   "outputs": [
    {
     "name": "stdout",
     "output_type": "stream",
     "text": [
      "[6, 4, 4, 7]\n"
     ]
    }
   ],
   "source": [
    "nLetters = []\n",
    "for name in names: \n",
    "    nLetters.append(len(name))\n",
    "    \n",
    "print(nLetters)"
   ]
  },
  {
   "cell_type": "markdown",
   "metadata": {},
   "source": [
    "e) Solve assignment d) using a list comprehension."
   ]
  },
  {
   "cell_type": "code",
   "execution_count": 11,
   "metadata": {},
   "outputs": [
    {
     "name": "stdout",
     "output_type": "stream",
     "text": [
      "[6, 4, 4, 7]\n"
     ]
    }
   ],
   "source": [
    "nLetters_d = [len(name) for name in names]\n",
    "print(nLetters_d)\n"
   ]
  },
  {
   "cell_type": "markdown",
   "metadata": {},
   "source": [
    "f) Use a list comprehension to produce a list `shortLong` that indicates if the name has more than four letters. The answer should be `['long', 'short', 'short', 'long']`."
   ]
  },
  {
   "cell_type": "code",
   "execution_count": 12,
   "metadata": {},
   "outputs": [
    {
     "name": "stdout",
     "output_type": "stream",
     "text": [
      "['long', 'short', 'short', 'long']\n"
     ]
    }
   ],
   "source": [
    "def short_long(nlet):\n",
    "    if(nlet > 4):\n",
    "        return \"long\"\n",
    "    else:\n",
    "        return \"short\"\n",
    "        \n",
    "shortLong = [short_long(mylet) for mylet in nLetters ]\n",
    "print(shortLong)\n",
    "\n"
   ]
  },
  {
   "cell_type": "markdown",
   "metadata": {},
   "source": [
    "g) Write a loop that __simultaneously__ loops over the lists `names` and `shortLong` to write the following to the screen:\n",
    "\n",
    "> `The name Ludwig is a long name`<br>\n",
    "> `The name Rosa is a short name`<br>\n",
    "> ...<br>\n",
    "> `The name Amadeus is a long name`<br>\n",
    "\n",
    "[Hint: use the `range` function and Python's string formatting.]"
   ]
  },
  {
   "cell_type": "code",
   "execution_count": 13,
   "metadata": {},
   "outputs": [
    {
     "name": "stdout",
     "output_type": "stream",
     "text": [
      "The name Ludwig is a long name\n",
      "The name Rosa is a short name\n",
      "The name Mona is a short name\n",
      "The name Amadeus is a long name\n"
     ]
    }
   ],
   "source": [
    "for n in range(0,4):\n",
    "    my_str= \"The name {} is a {} name\".format(names[n],shortLong[n])\n",
    "    print(my_str)"
   ]
  },
  {
   "cell_type": "markdown",
   "metadata": {},
   "source": [
    "### 3. Dictionaries\n",
    "\n",
    "Dictionaries are association tables, or maps, connecting a key to a value. For instance a name represented by a string as key with a number representing some attribute as a value. Dictionaries can themselves be values in other dictionaries, creating nested or hierarchical data structures. This is similar to named lists in R but keys in Python dictionaries can be more complex than just strings."
   ]
  },
  {
   "cell_type": "markdown",
   "metadata": {},
   "source": [
    "a) Make a dictionary named `amadeus` containing the information that the student Amadeus is a male, scored 8 on the Algebra exam and 13 on the History exam."
   ]
  },
  {
   "cell_type": "code",
   "execution_count": 14,
   "metadata": {},
   "outputs": [
    {
     "name": "stdout",
     "output_type": "stream",
     "text": [
      "{'Name': 'Amadeus', 'Gender': 'Male', 'Algebra': 8, 'History': 13}\n"
     ]
    }
   ],
   "source": [
    "amadeus = {\"Name\":\"Amadeus\",\"Gender\":\"Male\",\"Algebra\":8,\"History\":13}\n",
    "print(amadeus)"
   ]
  },
  {
   "cell_type": "markdown",
   "metadata": {},
   "source": [
    "b) Make three more dictionaries, one for each of the students: Rosa, Mona and Ludwig, from the information in the following table:\n",
    "\n",
    "| Name          | Gender        | Algebra       | History | \n",
    "| :-----------: | :-----------: |:-------------:| :------:|\n",
    "| Rosa          | Female        | 19            | 22      |\n",
    "| Mona          | Female        | 6             | 27      |\n",
    "| Ludwig        | Other         | 12            | 18      |"
   ]
  },
  {
   "cell_type": "code",
   "execution_count": 15,
   "metadata": {},
   "outputs": [],
   "source": [
    "nms = [\"Rosa\",\"Mona\",\"Ludwig\"]\n",
    "gnd = [\"Female\",\"Female\",\"Other\"]\n",
    "alg = [19,6,12]\n",
    "his = [22,27,18]\n",
    "\n",
    "rosa = {\"Name\":nms[0],\"Gender\":gnd[0],\"Algebra\":alg[0],\"History\":his[0]}\n",
    "mona = {\"Name\":nms[1],\"Gender\":gnd[1],\"Algebra\":alg[1],\"History\":his[1]}\n",
    "ludwig = {\"Name\":nms[2],\"Gender\":gnd[2],\"Algebra\":alg[2],\"History\":his[2]}\n"
   ]
  },
  {
   "cell_type": "markdown",
   "metadata": {},
   "source": [
    "c) Combine the four students in a dictionary named `students` such that a user of your dictionary can type `students['Amadeus']['History']` to retrive Amadeus score on the history test.\n",
    "\n",
    "[HINT: The values in a dictionary can be dictionaries.]"
   ]
  },
  {
   "cell_type": "code",
   "execution_count": 16,
   "metadata": {},
   "outputs": [
    {
     "name": "stdout",
     "output_type": "stream",
     "text": [
      "13\n",
      "{'Amadeus': {'Name': 'Amadeus', 'Gender': 'Male', 'Algebra': 8, 'History': 13}, 'Rosa': {'Name': 'Rosa', 'Gender': 'Female', 'Algebra': 19, 'History': 22}, 'Mona': {'Name': 'Mona', 'Gender': 'Female', 'Algebra': 6, 'History': 27}, 'Ludwig': {'Name': 'Ludwig', 'Gender': 'Other', 'Algebra': 12, 'History': 18}}\n"
     ]
    }
   ],
   "source": [
    "students = {\"Amadeus\":amadeus, \"Rosa\":rosa, \"Mona\":mona,\"Ludwig\":ludwig}\n",
    "\n",
    "print(students['Amadeus']['History'])\n",
    "print(students)"
   ]
  },
  {
   "cell_type": "markdown",
   "metadata": {},
   "source": [
    "d) Add the new male student Karl to the dictionary `students`. Karl scored 14 on the Algebra exam and 10 on the History exam."
   ]
  },
  {
   "cell_type": "code",
   "execution_count": 17,
   "metadata": {},
   "outputs": [
    {
     "name": "stdout",
     "output_type": "stream",
     "text": [
      "{'Name': 'Karl', 'Gender': 'Male', 'Algebra': 14, 'History': 10}\n"
     ]
    }
   ],
   "source": [
    "Karl = {\"Name\":\"Karl\",\"Gender\":\"Male\",\"Algebra\":14,\"History\":10}\n",
    "students[\"Karl\"] = Karl\n",
    "\n",
    "print(students[\"Karl\"])\n",
    "\n"
   ]
  },
  {
   "cell_type": "markdown",
   "metadata": {},
   "source": [
    "e) Use a `for`-loop to print out the names and scores of all students on the screen. The output should look like something this (the order of the students doesn't matter):\n",
    "\n",
    "> `Student Amadeus scored 8 on the Algebra exam and 13 on the History exam`<br>\n",
    "> `Student Rosa scored 19 on the Algebra exam and 22 on the History exam`<br>\n",
    "> ...\n",
    "\n",
    "[Hint: Dictionaries are iterables, also, check out the `items` function for dictionaries.]"
   ]
  },
  {
   "cell_type": "code",
   "execution_count": 18,
   "metadata": {},
   "outputs": [
    {
     "name": "stdout",
     "output_type": "stream",
     "text": [
      "Student Amadeus scored 8 on the Algebra exam and 13 on the History exam\n",
      "Student Rosa scored 19 on the Algebra exam and 22 on the History exam\n",
      "Student Mona scored 6 on the Algebra exam and 27 on the History exam\n",
      "Student Ludwig scored 12 on the Algebra exam and 18 on the History exam\n",
      "Student Karl scored 14 on the Algebra exam and 10 on the History exam\n"
     ]
    }
   ],
   "source": [
    "for name in students.keys():\n",
    "    my_str = \"Student {} scored {} on the Algebra exam and {} on the History exam\"\n",
    "    my_str = my_str.format(students[name][\"Name\"], students[name][\"Algebra\"],students[name][\"History\"])\n",
    "    print(my_str)"
   ]
  },
  {
   "cell_type": "markdown",
   "metadata": {},
   "source": [
    "f) Use a dict comprehension and the lists `names` and `shortLong` from assignment 2 to create a dictionary of names and wether they are short or long. The result should be a dictionary equivalent to {'Ludwig':'long', 'Rosa':'short', 'Mona':'short', 'Amadeus':'long'}.\n",
    "\n",
    "[Note: Remember that dictionaries in Python are unordered and that the order of the pairs in the above dictionary is arbitrary, you might not get the same order, this is fine.]<br>\n",
    "[Hint: use the `zip` function and Python's string formatting.]"
   ]
  },
  {
   "cell_type": "code",
   "execution_count": 19,
   "metadata": {},
   "outputs": [
    {
     "name": "stdout",
     "output_type": "stream",
     "text": [
      "{'Ludwig': 'long', 'Rosa': 'short', 'Mona': 'short', 'Amadeus': 'long'}\n",
      "\n",
      "<zip object at 0x10dee4d88>\n"
     ]
    }
   ],
   "source": [
    "my_dic= {x:y for x,y in zip(names,shortLong)}\n",
    "print(my_dic)\n",
    "my_dic= {x[0]:x[1] for x in zip(names,shortLong)}\n",
    "\n",
    "print()\n",
    "print(zip(names,shortLong))"
   ]
  },
  {
   "cell_type": "markdown",
   "metadata": {},
   "source": [
    "### 4. NumPy and SciPy\n",
    "\n",
    "Python is a general purpose programming language and not geared specifically towards scientific computing as R or MATLAB/Octave. However, there are the NumPy and SciPy libraries, the first one now being part of the first, which add a very versatile and competent toolbox for scientific computing. This assignment will give a very short introduction to working with its primary datacontainer, the n-dimensional array. The n-dimensional array is similar to the numeric matrix in R but comes with more bells and whistles built in."
   ]
  },
  {
   "cell_type": "markdown",
   "metadata": {},
   "source": [
    "a) Define two lists: `list1 = [1,3,4]` and `list2 = [5,6,9]`. Try `list1*list2`. Does it work?"
   ]
  },
  {
   "cell_type": "code",
   "execution_count": 20,
   "metadata": {},
   "outputs": [
    {
     "name": "stdout",
     "output_type": "stream",
     "text": [
      "No it dosn't work\n"
     ]
    }
   ],
   "source": [
    "list1 = [1,2,4]\n",
    "list2 = [5,6,9]\n",
    "#list1 * list2\n",
    "\n",
    "#---------------------------------------------------------------------------\n",
    "#TypeError                                 Traceback (most recent call last)\n",
    "#<ipython-input-107-a39525346825> in <module>()\n",
    "#      1 list1 = [1,2,4]\n",
    "#      2 list2 = [5,6,9]\n",
    "#----> 3 list1 * list2\n",
    "#      4 \n",
    "\n",
    "#TypeError: can't multiply sequence by non-int of type 'list'\n",
    "\n",
    "print(\"No it dosn't work\")\n"
   ]
  },
  {
   "cell_type": "markdown",
   "metadata": {},
   "source": [
    "b) Import everything from scipy (`from scipy import *`). Convert `list1` and `list2` into n-dimensional arrays (name them `array1` and `array2`). Now try `array1*array2`.\n",
    "\n",
    "[Note: N-dimensional array is the name of the datatype, actual instances must have a fixed number of dimensions, the number is usually inferred from the input when creating the arrays.]"
   ]
  },
  {
   "cell_type": "code",
   "execution_count": 25,
   "metadata": {},
   "outputs": [
    {
     "data": {
      "text/plain": [
       "array([ 5, 12, 36])"
      ]
     },
     "execution_count": 25,
     "metadata": {},
     "output_type": "execute_result"
    }
   ],
   "source": [
    "import scipy as sp \n",
    "\n",
    "array1 = sp.array(list1)\n",
    "array2 = sp.array(list2)\n",
    "\n",
    "array1 * array2\n"
   ]
  },
  {
   "cell_type": "markdown",
   "metadata": {},
   "source": [
    "c) Let `matrix1` be a 2-by-3 n-dimensional array with `array1` and `array2` as its two rows. Let `matrix2` be a 3-by-3 n-dimensional array with elements 1, 2 and 3 on the diagonal. Try `matrix1*matrix2`. Why doesn't this work?\n",
    "\n",
    "[Note: If you mistakenly use the matrix datatype here rather than n-dimensional arrays, you will get the expected behavior. However, this datatype should generally be avoided for other reasons.]"
   ]
  },
  {
   "cell_type": "code",
   "execution_count": null,
   "metadata": {},
   "outputs": [],
   "source": [
    "matrix1 = ndarray(shape = (2,3), buffer = array([array1,array2]))\n",
    "matrix1\n",
    "\n",
    "# The lazy way\n",
    "#matrix2 = ndarray(shape = (3,3), buffer = array([[1,0,0],[0,2,0],[0,0,3]]))\n",
    "#matrix2 \n",
    "\n",
    "# The functional way\n",
    "matrix2 = identity(3)\n",
    "fill_diagonal(matrix2,array([1,2,3]))\n",
    "matrix2\n",
    "\n",
    "#matrix1 * matrix2\n",
    "\n",
    "#---------------------------------------------------------------------------\n",
    "#ValueError                                Traceback (most recent call last)\n",
    "#<ipython-input-135-4bbb6cf287dd> in <module>()\n",
    "#     11 matrix2\n",
    "#     12 \n",
    "#---> 13 matrix1 * matrix2\n",
    "\n",
    "#ValueError: operands could not be broadcast together with shapes (2,3) (3,3) \n",
    "\n"
   ]
  },
  {
   "cell_type": "markdown",
   "metadata": {},
   "source": [
    "d) Compute the usual matrix product of `matrix1` and `matrix2` withouth changing datatypes.\n",
    "\n",
    "[Hint: There is a function to do this which can be found __[here](https://docs.scipy.org/doc/numpy-1.13.0/reference/generated/numpy.ndarray.html)__."
   ]
  },
  {
   "cell_type": "code",
   "execution_count": null,
   "metadata": {},
   "outputs": [],
   "source": [
    "matrix1.dot(matrix2)"
   ]
  },
  {
   "cell_type": "markdown",
   "metadata": {},
   "source": [
    "### 5. Functions\n",
    "\n",
    "Functions work similarly in R and Python. However, Python has the `def` statement as \"syntactic sugar\" for creating functions while R use standard assignments when creating functions."
   ]
  },
  {
   "cell_type": "markdown",
   "metadata": {},
   "source": [
    "a) Write a function `circle_area(radius)` that computes the area of a circle with radius `radius`. Call the function to show\n",
    "that it works.\n",
    "\n",
    "[Hint: The value of $\\pi$ is located in the `math` module and needs to be imported.]"
   ]
  },
  {
   "cell_type": "code",
   "execution_count": null,
   "metadata": {},
   "outputs": [],
   "source": [
    "def circle_area(radius):\n",
    "    return radius*radius*pi \n",
    "\n",
    "print(circle_area(3))"
   ]
  },
  {
   "cell_type": "markdown",
   "metadata": {},
   "source": [
    "b) Write a function `circle_area_safe(radius)` which checks that the radius is positive and prints `The radius must be positive` to the screen if it is not, and otherwise calls the `circle_area` function. Also, if the radius is not positive the `circle_area_safe` function should return `None`."
   ]
  },
  {
   "cell_type": "code",
   "execution_count": null,
   "metadata": {},
   "outputs": [],
   "source": [
    "def circle_area_safe(radius):\n",
    "    if radius < 0:\n",
    "        return \"The radius must be positive\"\n",
    "    else:\n",
    "        \n",
    "        area = circle_area(radius)\n",
    "        \n",
    "        if area < 0:\n",
    "            return None \n",
    "        \n",
    "        else:\n",
    "            return area\n",
    "\n",
    "print(circle_area_safe(-0.00001))"
   ]
  },
  {
   "cell_type": "markdown",
   "metadata": {},
   "source": [
    "Bonus assignment: Recreate the `circle_area_safe` function (call this version `circle_area_safer`) but instead of printing a message to the screen and returning `None` if the radius is negative, _raise_ a ValueError exception with suitable error message."
   ]
  },
  {
   "cell_type": "code",
   "execution_count": null,
   "metadata": {
    "collapsed": true
   },
   "outputs": [],
   "source": [
    "# Sorry, didn't have time for this."
   ]
  },
  {
   "cell_type": "markdown",
   "metadata": {},
   "source": [
    "### 6. File I/O\n",
    "\n",
    "File I/O in Python is a bit more general than what most R programmers are used to. In R, reading and writing files are usually performed using file type specific functions such as `read.csv` while in Python we usually start with reading standard text files. However, there are lots of specialized functions for different file types in Python as well, especially when using the __[pandas](http://pandas.pydata.org/)__ library which is built around a datatype similar to R DataFrames. Pandas will not be covered in this course though."
   ]
  },
  {
   "cell_type": "markdown",
   "metadata": {},
   "source": [
    "The file `students.tsv` contains tab separated values corresponding to the students in previous assigments.\n",
    "\n",
    "a) Read the file, line by line, and print each line. The result should be something like this:\n",
    "\n",
    "> `Amadeus\tMale\t8\t13`<br>\n",
    "> `Rosa\tFemale\t19\t22`<br>\n",
    "> ...\n",
    "\n",
    "The file should be closed when reading is complete.\n",
    "\n",
    "[Hint: Files are iterable in Python.]"
   ]
  },
  {
   "cell_type": "code",
   "execution_count": null,
   "metadata": {},
   "outputs": [],
   "source": [
    "my_file = open(file=\"../data/students.tsv\")#, mode = \"r\")\n",
    "\n",
    "for lines in my_file: \n",
    "    print(lines)\n",
    "    \n",
    "    \n",
    "my_file.close()"
   ]
  },
  {
   "cell_type": "markdown",
   "metadata": {},
   "source": [
    "b) Working with many files can be problematic, especially when you forget to close files or errors interrupt programs before files are closed. Python thus has a special `with` statement which automatically closes files for you, even if an error occurs. Redo assignment 6a using the `with` statement."
   ]
  },
  {
   "cell_type": "code",
   "execution_count": null,
   "metadata": {},
   "outputs": [],
   "source": [
    "with open(file=\"../data/students.tsv\", mode = \"r\") as mf:\n",
    "    for line in mf:\n",
    "        print(line)"
   ]
  },
  {
   "cell_type": "markdown",
   "metadata": {},
   "source": [
    "c) Recreate the dictionary assignment 3 by reading the data from the file.\n",
    "\n",
    "[Hint: Check out the `split` function and look up how to express tab characters.]"
   ]
  },
  {
   "cell_type": "code",
   "execution_count": null,
   "metadata": {},
   "outputs": [],
   "source": [
    "my_dict = {}\n",
    "with open(file=\"../data/students.tsv\", mode = \"r\") as mf:\n",
    "    for line in mf:\n",
    "        data_line = line.split()\n",
    "        person_d = {\"Name\":data_line[0],\"Gender\":data_line[1],\"Algebra\":int(data_line[2]),\"History\":int(data_line[3])}\n",
    "        my_dict[data_line[0]] = person_d\n",
    "\n",
    "\n",
    "print(my_dict)\n",
    "        "
   ]
  },
  {
   "cell_type": "markdown",
   "metadata": {},
   "source": [
    "d) Using the dictionary from 3c, write the sentences from 3e to a new file, called `students.txt`."
   ]
  },
  {
   "cell_type": "code",
   "execution_count": null,
   "metadata": {},
   "outputs": [],
   "source": [
    "my_write = open(\"students.txt\", \"w\")\n",
    "\n",
    "for name in my_dict.keys():\n",
    "    my_str = \"Student {} scored {} on the Algebra exam and {} on the History exam\"\n",
    "    my_str = my_str.format(my_dict[name][\"Name\"], my_dict[name][\"Algebra\"],my_dict[name][\"History\"])\n",
    "    my_write.write(my_str)\n",
    "    print(my_str)\n",
    "\n",
    "my_write.close()"
   ]
  }
 ],
 "metadata": {
  "kernelspec": {
   "display_name": "Python 3",
   "language": "python",
   "name": "python3"
  },
  "language_info": {
   "codemirror_mode": {
    "name": "ipython",
    "version": 3
   },
   "file_extension": ".py",
   "mimetype": "text/x-python",
   "name": "python",
   "nbconvert_exporter": "python",
   "pygments_lexer": "ipython3",
   "version": "3.6.3"
  }
 },
 "nbformat": 4,
 "nbformat_minor": 2
}
