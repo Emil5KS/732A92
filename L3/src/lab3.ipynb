{
 "cells": [
  {
   "cell_type": "markdown",
   "metadata": {},
   "source": [
    "## Lab 3: Topic Models\n",
    "### 732A92/TDDE16 Text Mining"
   ]
  },
  {
   "cell_type": "code",
   "execution_count": 61,
   "metadata": {},
   "outputs": [],
   "source": [
    "import numpy, random, scipy.special\n",
    "import matplotlib.pyplot as plt\n",
    "\n",
    "from sklearn.preprocessing import normalize\n",
    "\n",
    "class MyGibbs(object):\n",
    "    def __init__(self,\n",
    "                 num_topics,\n",
    "                 docs_file_name,\n",
    "                 stop_list_file_name = None):\n",
    "        self.num_topics = num_topics\n",
    "        self.num_docs = 0\n",
    "        self.doc_snippets = []\n",
    "        self.docs = []\n",
    "\n",
    "        ## Prepare list of stopwords\n",
    "        self.stoplist = dict()\n",
    "        if stop_list_file_name != None:\n",
    "            with open(stop_list_file_name) as f:\n",
    "                for line in f:\n",
    "                    word = line.rstrip()\n",
    "                    self.stoplist[word] = 1\n",
    "\n",
    "        self.read_documents(docs_file_name)\n",
    "        self.initialize_matrices()\n",
    "\n",
    "    def initialize_matrices(self):\n",
    "        \"\"\"Initializes numpy arrays for the matrix computations performed\n",
    "        by the sampler during the MCMC process.\"\"\"\n",
    "        ## Set up numpy matrices\n",
    "        self.term_topics = numpy.zeros((self.num_terms, self.num_topics))\n",
    "        self.doc_topics = numpy.zeros((self.num_docs, self.num_topics))\n",
    "        self.topic_totals = numpy.zeros(self.num_topics)\n",
    "        self.doc_totals = numpy.zeros(self.num_docs)\n",
    "\n",
    "        ## Initialize topics randomly\n",
    "        for doc_id in range(self.num_docs):\n",
    "            doc = self.docs[doc_id]\n",
    "            ## Create an array of random topic assignments\n",
    "            doc['topics'] = list(map(lambda x: random.randrange(self.num_topics), doc['tokens']))\n",
    "            ## Construct the initial summary statistics\n",
    "            doc_length = len(doc['tokens'])\n",
    "            for i in range(doc_length):\n",
    "                token = doc['tokens'][i]\n",
    "                topic = doc['topics'][i]\n",
    "                self.term_topics[token][topic] += 1 # n_wk\n",
    "                self.doc_topics[doc_id][topic] += 1 # n_dk\n",
    "                self.topic_totals[topic] += 1       # n_k\n",
    "                self.doc_totals[doc_id] += 1\n",
    "\n",
    "    def read_documents(self, filename):\n",
    "        \"\"\"Reads documents from a file, filters stop words and initializes\n",
    "        the vocabulary. Also converts tokens to integer term IDs.\"\"\"\n",
    "        self.vocab = []\n",
    "        self.vocab_ids = {}\n",
    "\n",
    "        with open(filename) as f:\n",
    "            for line in f:\n",
    "                line = line.replace(\".\", \" \").replace(\",\", \" \").lower()\n",
    "                self.num_docs += 1\n",
    "                tokens = []\n",
    "\n",
    "                for w in line.split():\n",
    "                    if not w in self.stoplist:\n",
    "                        if w in self.vocab_ids:\n",
    "                            tokens.append(self.vocab_ids[w])\n",
    "                        else:\n",
    "                            term_id = len(self.vocab)\n",
    "                            self.vocab.append(w)\n",
    "                            self.vocab_ids[w] = term_id\n",
    "                            tokens.append(term_id)\n",
    "\n",
    "                self.doc_snippets.append(line[:200])\n",
    "                self.docs.append({ 'tokens': tokens })\n",
    "\n",
    "        self.num_terms = len(self.vocab)\n",
    "        print(\"Read {} documents with a total of {} terms\".format(self.num_docs, self.num_terms))\n",
    "\n",
    "    def make_draw(self, alpha, beta):\n",
    "        \"\"\"Makes a single draw from the posterior distribution in an MCMC fashion.\"\"\"\n",
    "        for doc_id in range(self.num_docs):\n",
    "            doc = self.docs[doc_id]\n",
    "            doc_tokens = doc[\"tokens\"]\n",
    "            doc_topics = doc[\"topics\"]\n",
    "\n",
    "            for idx, (token, topic) in enumerate(zip(doc_tokens, doc_topics)):\n",
    "                self.term_topics[token][topic] -= 1\n",
    "                self.doc_topics[doc_id][topic] -= 1\n",
    "                self.topic_totals[topic] -= 1\n",
    "\n",
    "                topic_probs = self._compute_topic_probs(doc_id, token, alpha, beta)\n",
    "                new_topic = self._sample_topic(topic_probs)\n",
    "\n",
    "                doc_topics[idx] = new_topic\n",
    "                self.term_topics[token][new_topic] += 1\n",
    "                self.doc_topics[doc_id][new_topic] += 1\n",
    "                self.topic_totals[new_topic] += 1\n",
    "\n",
    "        self.phi = numpy.array(self.term_topics).T\n",
    "        self.phi += beta\n",
    "        self.phi = normalize(self.phi, axis=1, norm=\"l1\")\n",
    "        \n",
    "        return self\n",
    "\n",
    "    def _compute_topic_probs(self, doc, token, alpha, beta):\n",
    "        probs = [0] * self.num_topics\n",
    "\n",
    "        for topic in range(self.num_topics):\n",
    "            factor1 = alpha + self.doc_topics[doc][topic]\n",
    "            factor2 = beta + self.term_topics[token][topic]\n",
    "            factor3 = beta * len(self.vocab) + self.topic_totals[topic]\n",
    "            probs[topic] = factor1 * factor2 / factor3\n",
    "\n",
    "        return probs / sum(probs)\n",
    "\n",
    "    def _sample_topic(self, topic_probs):\n",
    "        return numpy.random.choice(self.num_topics, size=1, p=topic_probs)[0]\n",
    "\n",
    "    def compute_logprob(self, alpha, beta):\n",
    "        \"\"\"Computes the log marginal posterior.\"\"\"\n",
    "        K = self.num_topics\n",
    "        V = self.num_terms\n",
    "        D = self.num_docs\n",
    "\n",
    "        KV = K * V\n",
    "        DK = D * K\n",
    "        VB = V * beta\n",
    "        KA = K * alpha\n",
    "\n",
    "        lg = scipy.special.gammaln\n",
    "\n",
    "        term1 = K * lg(VB)\n",
    "        term2 = -KV * lg(beta)\n",
    "\n",
    "        term3 = 0\n",
    "        for topic in range(K):\n",
    "            for word in range(V):\n",
    "                term3 += lg(self.term_topics[word][topic] + beta)\n",
    "\n",
    "        term4 = 0\n",
    "        for topic in range(K):\n",
    "            inner_sum = 0\n",
    "            for word in range(V):\n",
    "                inner_sum += self.term_topics[word][topic]\n",
    "            term4 += lg(inner_sum + beta)\n",
    "        term4 *= -1\n",
    "\n",
    "        term5 = D * lg(KA)\n",
    "        term6 = -DK * lg(alpha)\n",
    "\n",
    "        term7 = 0\n",
    "        for doc in range(D):\n",
    "            for topic in range(K):\n",
    "                term7 += lg(self.doc_topics[doc][topic] + alpha)\n",
    "\n",
    "        term8 = 0\n",
    "        for doc in range(D):\n",
    "            inner_sum = 0\n",
    "            for topic in range(K):\n",
    "                inner_sum += self.doc_topics[doc][topic]\n",
    "            term8 += lg(inner_sum + alpha)\n",
    "        term8 *= -1\n",
    "\n",
    "        return term1 + term2 + term3 + term4 + term5 + term6 + term7 + term8\n",
    "\n",
    "    def run(self, num_iterations = 50, alpha = 0.1, beta = 0.01):\n",
    "        self.logprobs = []\n",
    "\n",
    "        for iteration in range(num_iterations):\n",
    "            self.make_draw(alpha, beta)\n",
    "            logprob = self.compute_logprob(alpha, beta)\n",
    "            self.logprobs.append(logprob)\n",
    "            # print(\"iteration {}, {}\".format(iteration, logprob))\n",
    "\n",
    "    def print_topics(self, j):\n",
    "        \"\"\"Prints topic distributions for the.\"\"\"\n",
    "        topic_term = numpy.array(self.term_topics).T\n",
    "        for topic in range(self.num_topics):\n",
    "            print(\"Topic %i:\" % (topic + 1,), end=\" \")\n",
    "            for word in numpy.argsort(topic_term[topic, :])[-j:]:\n",
    "                print(self.vocab[word], end=\" \")\n",
    "            print()\n",
    "\n",
    "    def plot(self):\n",
    "        plt.plot(self.logprobs)\n",
    "        plt.ylabel(\"Log Probability\")\n",
    "        plt.xlabel(\"# of iterations\")\n",
    "        plt.show()\n",
    "        \n",
    "    def new_speech(self, length):\n",
    "        \"\"\"Samples a new speech of the given length.\"\"\"\n",
    "        \n",
    "        def sample_word(probs):\n",
    "            return numpy.random.choice(self.num_terms, size=1, p=probs)[0]\n",
    "\n",
    "        theta = numpy.random.dirichlet(alpha=[0.5] * self.num_topics)\n",
    "        speech = [None] * length\n",
    "\n",
    "        for i in range(length):\n",
    "            topic = self._sample_topic(theta)\n",
    "            word = sample_word(self.phi[topic,:])\n",
    "            speech[i] = self.vocab[word]\n",
    "\n",
    "        return \" \".join(speech)"
   ]
  },
  {
   "cell_type": "markdown",
   "metadata": {},
   "source": [
    "### 1. Sampling"
   ]
  },
  {
   "cell_type": "code",
   "execution_count": 62,
   "metadata": {},
   "outputs": [
    {
     "name": "stdout",
     "output_type": "stream",
     "text": [
      "Read 2898 documents with a total of 8695 terms\n"
     ]
    },
    {
     "data": {
      "image/png": "[encoded data removed]",
      "text/plain": [
       "<matplotlib.figure.Figure at 0x7f0dc28c0278>"
      ]
     },
     "metadata": {},
     "output_type": "display_data"
    }
   ],
   "source": [
    "model = MyGibbs(10, '../data/sotu_1975_2000.txt', '../data/stoplist_en.txt')\n",
    "model.run(10)\n",
    "model.plot()"
   ]
  },
  {
   "cell_type": "markdown",
   "metadata": {},
   "source": [
    "### 2. Top terms"
   ]
  },
  {
   "cell_type": "code",
   "execution_count": 63,
   "metadata": {},
   "outputs": [
    {
     "name": "stdout",
     "output_type": "stream",
     "text": [
      "Topic 1: local military budget state program space government national years federal \n",
      "Topic 2: long system states private work welfare people social year security \n",
      "Topic 3: god years time american high care america americans family health \n",
      "Topic 4: spending billion federal percent years government energy tax budget year \n",
      "Topic 5: administration health nation bring people care support make government families \n",
      "Topic 6: system world families nation america work country congress children people \n",
      "Topic 7: crime congress century year make work american america americans people \n",
      "Topic 8: war union years security people nation freedom peace world america \n",
      "Topic 9: war international trade nuclear peace nations soviet economic america world \n",
      "Topic 10: countries service time members continue policy federal mr president congress \n"
     ]
    }
   ],
   "source": [
    "model.print_topics(10)"
   ]
  },
  {
   "cell_type": "markdown",
   "metadata": {},
   "source": [
    "### 3. Explore the data"
   ]
  },
  {
   "cell_type": "code",
   "execution_count": 64,
   "metadata": {},
   "outputs": [
    {
     "data": {
      "image/png": "[encoded data removed]",
      "text/plain": [
       "<matplotlib.figure.Figure at 0x7f0dc70e1be0>"
      ]
     },
     "metadata": {},
     "output_type": "display_data"
    }
   ],
   "source": [
    "%matplotlib inline\n",
    "model.run(100)\n",
    "model.plot()"
   ]
  },
  {
   "cell_type": "markdown",
   "metadata": {},
   "source": [
    "It looks like it is starting to converge after 100 iterations, but it should probabily run for 1000-2000 iteration to be more certain when it converges. However, the implementation is too slow for that in a reasonable amount of time."
   ]
  },
  {
   "cell_type": "code",
   "execution_count": 65,
   "metadata": {
    "scrolled": true
   },
   "outputs": [
    {
     "name": "stdout",
     "output_type": "stream",
     "text": [
      "Topic 1: resources local space program national development programs administration government federal \n",
      "Topic 2: provide private program congress programs security social reform welfare system \n",
      "Topic 3: families life child people americans year children family health care \n",
      "Topic 4: growth billion million federal energy percent year years tax budget \n",
      "Topic 5: ll time economy put year make congress people government american \n",
      "Topic 6: hard stop united america good country years ve states people \n",
      "Topic 7: parents school give schools crime america make education work children \n",
      "Topic 8: americans union peace future american nation freedom people world america \n",
      "Topic 9: trade economic states united peace security nations nuclear soviet world \n",
      "Topic 10: members women nation food mr rights administration president policy congress \n"
     ]
    }
   ],
   "source": [
    "model.print_topics(10)"
   ]
  },
  {
   "cell_type": "markdown",
   "metadata": {},
   "source": [
    "We can kind of interpret some of the topics. For instance topic 3 seem to be about the american people and the health care system. Topic 7 is about education, topic 10 about womens right to vote, and topic 9 is mixed with economical and security terms. Other topics are more difficult to interpret such as topic 5 and 6.\n",
    "\n",
    "Overall, the topics do seem to capture what you might expect to find from speeches made by the Presidents of the United States."
   ]
  },
  {
   "cell_type": "markdown",
   "metadata": {},
   "source": [
    "### 4. Simulate a new State of the Union speech"
   ]
  },
  {
   "cell_type": "code",
   "execution_count": 69,
   "metadata": {},
   "outputs": [
    {
     "data": {
      "text/plain": [
       "'surely raised morning americans refused created laws god care preliminary legislation hundred fellow division businesslike resolution 97th dependable evidence fellow impose source policy costs coordinator time small families house flag breakdown restrictions work formulated life rights tonight messages house pursuit people implement destroyer message day members rights equip chief national achievements organization fairer environment pressures expenditure legal fundamental unfair effort cubans challenge partisan commission action agree enable similar vitality havel sugar chamber dangers narcotic government activities coverage producers year schuller control mistakes president equal desert national control century homebuyers prices house equivalent dr democracy year line defense franklin civil easier'"
      ]
     },
     "execution_count": 69,
     "metadata": {},
     "output_type": "execute_result"
    }
   ],
   "source": [
    "model.new_speech(100)"
   ]
  },
  {
   "cell_type": "markdown",
   "metadata": {},
   "source": [
    "Having $\\alpha = 0.5$ is not completely unreasonable in our opinion. We would like for the speech to be coherent, that is, having few topics so we would not want it to have completely uniform topic ditribution ($\\alpha = 1$). By having $\\alpha$ in the middle of 0.1 och 1 is reasonable under the assumption that a speech should contain a few number of topics with equally high probability.  "
   ]
  }
 ],
 "metadata": {
  "kernelspec": {
   "display_name": "Python 3",
   "language": "python",
   "name": "python3"
  },
  "language_info": {
   "codemirror_mode": {
    "name": "ipython",
    "version": 3
   },
   "file_extension": ".py",
   "mimetype": "text/x-python",
   "name": "python",
   "nbconvert_exporter": "python",
   "pygments_lexer": "ipython3",
   "version": "3.5.2"
  }
 },
 "nbformat": 4,
 "nbformat_minor": 2
}
